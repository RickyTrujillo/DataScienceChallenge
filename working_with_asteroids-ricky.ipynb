{
 "cells": [
  {
   "cell_type": "markdown",
   "metadata": {},
   "source": [
    "## Pre-processing the Data into a CSV"
   ]
  },
  {
   "cell_type": "markdown",
   "metadata": {},
   "source": [
    "**Imports**"
   ]
  },
  {
   "cell_type": "code",
   "execution_count": 3,
   "metadata": {},
   "outputs": [],
   "source": [
    "import time\n",
    "import math\n",
    "import pandas as pd\n",
    "import cv2\n",
    "import galsim\n",
    "import numpy as np\n",
    "import matplotlib.pyplot as plt \n",
    "from skimage import filters\n",
    "from sklearn import preprocessing"
   ]
  },
  {
   "cell_type": "code",
   "execution_count": 4,
   "metadata": {},
   "outputs": [],
   "source": [
    "# Loading in image data\n",
    "sample_images_0 = np.load(\"/usr/workspace/UCM_2021/challenge_setup/asteroid_difference_images_0.npz\")['data']\n",
    "sample_images_1 = np.load(\"/usr/workspace/UCM_2021/challenge_setup/asteroid_difference_images_1.npz\")['data']\n",
    "sample_images_2 = np.load(\"/usr/workspace/UCM_2021/challenge_setup/asteroid_difference_images_2.npz\")['data']\n",
    "sample_images_3 = np.load(\"/usr/workspace/UCM_2021/challenge_setup/asteroid_difference_images_3.npz\")['data']\n",
    "sample_images_4 = np.load(\"/usr/workspace/UCM_2021/challenge_setup/asteroid_difference_images_4.npz\")['data']\n",
    "sample_images_5 = np.load(\"/usr/workspace/UCM_2021/challenge_setup/asteroid_difference_images_5.npz\")['data']\n",
    "sample_images_6 = np.load(\"/usr/workspace/UCM_2021/challenge_setup/asteroid_difference_images_6.npz\")['data']\n",
    "sample_images_7 = np.load(\"/usr/workspace/UCM_2021/challenge_setup/asteroid_difference_images_7.npz\")['data']\n",
    "#sample_images_8 = np.load(\"/usr/workspace/UCM_2021/challenge_setup/asteroid_difference_images_8.npz\")['data']"
   ]
  },
  {
   "cell_type": "code",
   "execution_count": 4,
   "metadata": {},
   "outputs": [],
   "source": [
    "#loading in information of images\n",
    "sample_information_0 = np.load(\"/usr/workspace/UCM_2021/challenge_setup/asteroid_injected_information_0.npz\",allow_pickle=True)\n",
    "sample_information_1 = np.load(\"/usr/workspace/UCM_2021/challenge_setup/asteroid_injected_information_1.npz\",allow_pickle=True)\n",
    "sample_information_2 = np.load(\"/usr/workspace/UCM_2021/challenge_setup/asteroid_injected_information_2.npz\",allow_pickle=True)\n",
    "sample_information_3 = np.load(\"/usr/workspace/UCM_2021/challenge_setup/asteroid_injected_information_3.npz\",allow_pickle=True)\n",
    "sample_information_4 = np.load(\"/usr/workspace/UCM_2021/challenge_setup/asteroid_injected_information_4.npz\",allow_pickle=True)\n",
    "sample_information_5 = np.load(\"/usr/workspace/UCM_2021/challenge_setup/asteroid_injected_information_5.npz\",allow_pickle=True)\n",
    "sample_information_6 = np.load(\"/usr/workspace/UCM_2021/challenge_setup/asteroid_injected_information_6.npz\",allow_pickle=True)\n",
    "sample_information_7 = np.load(\"/usr/workspace/UCM_2021/challenge_setup/asteroid_injected_information_7.npz\",allow_pickle=True)"
   ]
  },
  {
   "cell_type": "markdown",
   "metadata": {},
   "source": [
    "Each image has information stored as so: The first input is the original difference image and PSF Image\n",
    "that was pulled from the zwicky transient facility you can look at later, the second input is a pandas dataframe of where you can find all 20 synthetically injected satellites as shown below"
   ]
  },
  {
   "cell_type": "code",
   "execution_count": 43,
   "metadata": {},
   "outputs": [
    {
     "data": {
      "text/plain": [
       "['./Data/sci/2019/1118/190706/ztf_20191118190706_000555_zg_c07_o_q3_diffimgpsf.fits',\n",
       " './Data/sci/2019/1118/190706/ztf_20191118190706_000555_zg_c07_o_q3_scimrefdiffimg.fits.fz']"
      ]
     },
     "execution_count": 43,
     "metadata": {},
     "output_type": "execute_result"
    },
    {
     "data": {
      "image/png": "[encoded data removed]",
      "text/plain": [
       "<Figure size 432x288 with 1 Axes>"
      ]
     },
     "metadata": {
      "needs_background": "light"
     },
     "output_type": "display_data"
    }
   ],
   "source": [
    "#Information of the first sample image from the Zwicky Transient Facility\n",
    "plt.imshow(sample_images_0[0])\n",
    "sample_information_0['data'][0]"
   ]
  },
  {
   "cell_type": "code",
   "execution_count": 4,
   "metadata": {},
   "outputs": [
    {
     "data": {
      "text/html": [
       "<div>\n",
       "<style scoped>\n",
       "    .dataframe tbody tr th:only-of-type {\n",
       "        vertical-align: middle;\n",
       "    }\n",
       "\n",
       "    .dataframe tbody tr th {\n",
       "        vertical-align: top;\n",
       "    }\n",
       "\n",
       "    .dataframe thead th {\n",
       "        text-align: right;\n",
       "    }\n",
       "</style>\n",
       "<table border=\"1\" class=\"dataframe\">\n",
       "  <thead>\n",
       "    <tr style=\"text-align: right;\">\n",
       "      <th></th>\n",
       "      <th>magnitude</th>\n",
       "      <th>length</th>\n",
       "      <th>angle</th>\n",
       "      <th>box</th>\n",
       "    </tr>\n",
       "  </thead>\n",
       "  <tbody>\n",
       "    <tr>\n",
       "      <th>0</th>\n",
       "      <td>16.104747</td>\n",
       "      <td>1</td>\n",
       "      <td>228.358088</td>\n",
       "      <td>galsim.BoundsI(2139,2240,1925,2026)</td>\n",
       "    </tr>\n",
       "    <tr>\n",
       "      <th>1</th>\n",
       "      <td>18.222819</td>\n",
       "      <td>3</td>\n",
       "      <td>165.819034</td>\n",
       "      <td>galsim.BoundsI(2131,2234,476,579)</td>\n",
       "    </tr>\n",
       "    <tr>\n",
       "      <th>2</th>\n",
       "      <td>15.979216</td>\n",
       "      <td>1</td>\n",
       "      <td>281.243538</td>\n",
       "      <td>galsim.BoundsI(812,913,1147,1248)</td>\n",
       "    </tr>\n",
       "    <tr>\n",
       "      <th>3</th>\n",
       "      <td>18.184195</td>\n",
       "      <td>2</td>\n",
       "      <td>95.195193</td>\n",
       "      <td>galsim.BoundsI(2352,2454,1006,1108)</td>\n",
       "    </tr>\n",
       "    <tr>\n",
       "      <th>4</th>\n",
       "      <td>16.298675</td>\n",
       "      <td>3</td>\n",
       "      <td>356.967492</td>\n",
       "      <td>galsim.BoundsI(2080,2183,466,569)</td>\n",
       "    </tr>\n",
       "    <tr>\n",
       "      <th>5</th>\n",
       "      <td>16.305862</td>\n",
       "      <td>2</td>\n",
       "      <td>56.170222</td>\n",
       "      <td>galsim.BoundsI(1654,1756,2119,2221)</td>\n",
       "    </tr>\n",
       "    <tr>\n",
       "      <th>6</th>\n",
       "      <td>16.967739</td>\n",
       "      <td>1</td>\n",
       "      <td>211.522894</td>\n",
       "      <td>galsim.BoundsI(1543,1644,1406,1507)</td>\n",
       "    </tr>\n",
       "    <tr>\n",
       "      <th>7</th>\n",
       "      <td>18.127119</td>\n",
       "      <td>1</td>\n",
       "      <td>270.145747</td>\n",
       "      <td>galsim.BoundsI(2707,2808,1119,1220)</td>\n",
       "    </tr>\n",
       "    <tr>\n",
       "      <th>8</th>\n",
       "      <td>15.172116</td>\n",
       "      <td>2</td>\n",
       "      <td>153.090408</td>\n",
       "      <td>galsim.BoundsI(2140,2242,2428,2530)</td>\n",
       "    </tr>\n",
       "    <tr>\n",
       "      <th>9</th>\n",
       "      <td>17.504909</td>\n",
       "      <td>3</td>\n",
       "      <td>295.527269</td>\n",
       "      <td>galsim.BoundsI(1139,1242,2915,3018)</td>\n",
       "    </tr>\n",
       "    <tr>\n",
       "      <th>10</th>\n",
       "      <td>15.029287</td>\n",
       "      <td>3</td>\n",
       "      <td>332.281818</td>\n",
       "      <td>galsim.BoundsI(871,974,110,213)</td>\n",
       "    </tr>\n",
       "    <tr>\n",
       "      <th>11</th>\n",
       "      <td>17.396485</td>\n",
       "      <td>3</td>\n",
       "      <td>96.447372</td>\n",
       "      <td>galsim.BoundsI(224,327,1743,1846)</td>\n",
       "    </tr>\n",
       "    <tr>\n",
       "      <th>12</th>\n",
       "      <td>18.680659</td>\n",
       "      <td>1</td>\n",
       "      <td>79.306272</td>\n",
       "      <td>galsim.BoundsI(1078,1179,2589,2690)</td>\n",
       "    </tr>\n",
       "    <tr>\n",
       "      <th>13</th>\n",
       "      <td>17.984784</td>\n",
       "      <td>3</td>\n",
       "      <td>272.557400</td>\n",
       "      <td>galsim.BoundsI(1659,1762,103,206)</td>\n",
       "    </tr>\n",
       "    <tr>\n",
       "      <th>14</th>\n",
       "      <td>15.566666</td>\n",
       "      <td>1</td>\n",
       "      <td>305.983155</td>\n",
       "      <td>galsim.BoundsI(1300,1401,2083,2184)</td>\n",
       "    </tr>\n",
       "    <tr>\n",
       "      <th>15</th>\n",
       "      <td>18.794665</td>\n",
       "      <td>2</td>\n",
       "      <td>180.476585</td>\n",
       "      <td>galsim.BoundsI(523,625,1734,1836)</td>\n",
       "    </tr>\n",
       "    <tr>\n",
       "      <th>16</th>\n",
       "      <td>15.269838</td>\n",
       "      <td>1</td>\n",
       "      <td>67.397933</td>\n",
       "      <td>galsim.BoundsI(1847,1948,1343,1444)</td>\n",
       "    </tr>\n",
       "    <tr>\n",
       "      <th>17</th>\n",
       "      <td>16.462608</td>\n",
       "      <td>3</td>\n",
       "      <td>123.557740</td>\n",
       "      <td>galsim.BoundsI(2617,2720,2903,3006)</td>\n",
       "    </tr>\n",
       "    <tr>\n",
       "      <th>18</th>\n",
       "      <td>17.662699</td>\n",
       "      <td>1</td>\n",
       "      <td>128.526359</td>\n",
       "      <td>galsim.BoundsI(2613,2714,500,601)</td>\n",
       "    </tr>\n",
       "    <tr>\n",
       "      <th>19</th>\n",
       "      <td>15.841308</td>\n",
       "      <td>3</td>\n",
       "      <td>137.533233</td>\n",
       "      <td>galsim.BoundsI(449,552,2121,2224)</td>\n",
       "    </tr>\n",
       "  </tbody>\n",
       "</table>\n",
       "</div>"
      ],
      "text/plain": [
       "    magnitude  length       angle                                  box\n",
       "0   16.104747       1  228.358088  galsim.BoundsI(2139,2240,1925,2026)\n",
       "1   18.222819       3  165.819034    galsim.BoundsI(2131,2234,476,579)\n",
       "2   15.979216       1  281.243538    galsim.BoundsI(812,913,1147,1248)\n",
       "3   18.184195       2   95.195193  galsim.BoundsI(2352,2454,1006,1108)\n",
       "4   16.298675       3  356.967492    galsim.BoundsI(2080,2183,466,569)\n",
       "5   16.305862       2   56.170222  galsim.BoundsI(1654,1756,2119,2221)\n",
       "6   16.967739       1  211.522894  galsim.BoundsI(1543,1644,1406,1507)\n",
       "7   18.127119       1  270.145747  galsim.BoundsI(2707,2808,1119,1220)\n",
       "8   15.172116       2  153.090408  galsim.BoundsI(2140,2242,2428,2530)\n",
       "9   17.504909       3  295.527269  galsim.BoundsI(1139,1242,2915,3018)\n",
       "10  15.029287       3  332.281818      galsim.BoundsI(871,974,110,213)\n",
       "11  17.396485       3   96.447372    galsim.BoundsI(224,327,1743,1846)\n",
       "12  18.680659       1   79.306272  galsim.BoundsI(1078,1179,2589,2690)\n",
       "13  17.984784       3  272.557400    galsim.BoundsI(1659,1762,103,206)\n",
       "14  15.566666       1  305.983155  galsim.BoundsI(1300,1401,2083,2184)\n",
       "15  18.794665       2  180.476585    galsim.BoundsI(523,625,1734,1836)\n",
       "16  15.269838       1   67.397933  galsim.BoundsI(1847,1948,1343,1444)\n",
       "17  16.462608       3  123.557740  galsim.BoundsI(2617,2720,2903,3006)\n",
       "18  17.662699       1  128.526359    galsim.BoundsI(2613,2714,500,601)\n",
       "19  15.841308       3  137.533233    galsim.BoundsI(449,552,2121,2224)"
      ]
     },
     "execution_count": 4,
     "metadata": {},
     "output_type": "execute_result"
    }
   ],
   "source": [
    "#Information of the magnitude, length, angle and box of the injected asteroid streaks\n",
    "sample_information_0['data'][1]"
   ]
  },
  {
   "cell_type": "code",
   "execution_count": 129,
   "metadata": {
    "scrolled": true
   },
   "outputs": [
    {
     "data": {
      "text/plain": [
       "<matplotlib.image.AxesImage at 0x2f3e0e450>"
      ]
     },
     "execution_count": 129,
     "metadata": {},
     "output_type": "execute_result"
    },
    {
     "data": {
      "image/png": "[encoded data removed]",
      "text/plain": [
       "<Figure size 432x288 with 1 Axes>"
      ]
     },
     "metadata": {
      "needs_background": "light"
     },
     "output_type": "display_data"
    }
   ],
   "source": [
    "box_values_ast_0 = sample_information_0['data'][1]['box'][1]\n",
    "plt.imshow(sample_images_0[0][box_values_ast_0.ymin:box_values_ast_0.ymax,box_values_ast_0.xmin:box_values_ast_0.xmax])"
   ]
  },
  {
   "cell_type": "markdown",
   "metadata": {},
   "source": [
    "Lets try to zoom in a bit more"
   ]
  },
  {
   "cell_type": "code",
   "execution_count": 28,
   "metadata": {},
   "outputs": [
    {
     "data": {
      "text/plain": [
       "array([[-1.40902901e+00,  2.16059875e+00, -6.84212685e+00,\n",
       "        -3.53490472e-01, -9.72865868e+00,  1.47804594e+00,\n",
       "         1.41977596e+00, -3.52093652e-02,  6.86281300e+00,\n",
       "         4.38005400e+00, -6.40612030e+00,  9.37628269e-01,\n",
       "         5.03502786e-01,  4.55860424e+00,  4.75758839e+00,\n",
       "         5.60699463e-01,  1.22286224e+00,  8.16022205e+00,\n",
       "        -3.67024970e+00, -1.35778278e-01, -8.91524673e-01,\n",
       "         4.69846487e+00,  2.44322848e+00],\n",
       "       [-7.36354876e+00, -5.93830645e-01, -6.95632339e-01,\n",
       "        -2.90112019e+00,  2.08518195e+00,  7.86230946e+00,\n",
       "         7.04667717e-03, -6.65871799e-03, -1.30282784e+01,\n",
       "         3.27230287e+00, -3.37755799e+00, -6.50024509e+00,\n",
       "         1.88313079e+00,  2.15623779e+01, -1.53437500e+01,\n",
       "        -7.49391222e+00,  6.27159691e+00,  5.35906672e-01,\n",
       "         6.59344625e+00, -6.31240463e+00,  4.80538225e+00,\n",
       "         5.98974288e-01,  6.34012365e+00],\n",
       "       [-3.59593511e+00, -3.54695821e+00,  5.69872141e+00,\n",
       "         2.27986336e+00,  1.61156192e-01,  1.15975342e+01,\n",
       "        -7.35609388e+00,  2.73381495e+00, -1.41042531e+00,\n",
       "        -3.47036409e+00,  5.05148888e+00,  1.54229319e+00,\n",
       "        -5.52303743e+00,  8.61058414e-01, -3.53244543e+00,\n",
       "        -1.28832459e+00,  4.93855333e+00, -2.96963215e+00,\n",
       "         1.15829687e+01,  1.34569359e+00,  5.61541557e+00,\n",
       "         1.33973455e+00,  2.86484408e+00],\n",
       "       [-5.95802498e+00, -8.78896809e+00, -4.90793765e-01,\n",
       "        -2.61494136e+00,  1.34081583e+01,  4.61403608e+00,\n",
       "        -7.32374239e+00,  4.14981413e+00, -3.57740402e+00,\n",
       "        -8.30126858e+00,  7.52852917e+00, -6.05302751e-01,\n",
       "         1.76366115e+00, -9.62522149e-01, -5.49341869e+00,\n",
       "        -7.16561651e+00, -4.31079537e-01,  1.27768397e+00,\n",
       "        -3.25182796e+00, -1.44555569e+01, -1.31606567e+00,\n",
       "        -1.04505897e+00, -9.61388052e-01],\n",
       "       [-3.55803537e+00,  3.70586896e+00, -3.25925899e+00,\n",
       "         4.00482750e+00,  3.24526548e+00, -1.11818180e+01,\n",
       "         1.22279584e+00, -2.27280736e+00,  4.44114065e+00,\n",
       "        -1.08456354e+01,  4.22040367e+00, -1.58842936e-01,\n",
       "        -9.22320461e+00, -3.55148029e+00, -1.75294387e+00,\n",
       "         1.56827581e+00,  9.09323978e+00,  3.35464403e-02,\n",
       "         6.73741293e+00, -3.28103042e+00, -6.07389069e+00,\n",
       "         3.69351459e+00,  3.82649350e+00],\n",
       "       [-5.35369337e-01, -2.45575857e+00, -9.12023926e+00,\n",
       "        -7.22509289e+00,  8.85159111e+00,  6.35284615e+00,\n",
       "         1.26193672e-01, -3.19695950e+00,  4.53832626e+00,\n",
       "         1.24427452e+01,  7.61322641e+00, -4.60239744e+00,\n",
       "         3.97361708e+00, -4.47464180e+00,  7.89225161e-01,\n",
       "         5.41609621e+00,  8.87435913e+00, -5.61601400e+00,\n",
       "         7.31246758e+00, -1.34931576e+00,  2.71035099e+00,\n",
       "        -3.12802315e+00, -5.00685573e-01],\n",
       "       [ 3.39377213e+00, -9.66849136e+00,  4.68980074e+00,\n",
       "         3.27061343e+00,  6.60438389e-02,  6.56846166e-01,\n",
       "        -7.25271559e+00, -5.80191803e+00, -7.43653011e+00,\n",
       "         7.60706216e-02, -6.62835789e+00, -1.16505039e+00,\n",
       "        -1.88590479e+00,  9.91477132e-01, -2.44746637e+00,\n",
       "        -9.90475893e-01, -5.86260271e+00, -2.61184287e+00,\n",
       "         5.44694471e+00, -1.13327532e+01,  1.03634348e+01,\n",
       "         7.50649309e+00,  1.27126765e+00],\n",
       "       [ 1.59692694e-03, -3.62673354e+00, -1.20264709e+00,\n",
       "        -4.24424505e+00,  2.72298646e+00,  6.39224720e+00,\n",
       "         2.43230057e+00, -1.94842398e+00,  8.25998127e-01,\n",
       "        -5.14662743e+00,  2.24031353e+00, -6.66801274e-01,\n",
       "         1.44313347e+00, -5.12634468e+00,  1.39727521e+00,\n",
       "        -3.60762239e+00, -5.90621376e+00,  4.89087105e+00,\n",
       "        -3.56538224e+00, -1.98952305e+00,  8.21894360e+00,\n",
       "         4.01644230e+00, -3.20683074e+00],\n",
       "       [ 4.62062865e-01, -1.09202051e+00,  3.20587206e+00,\n",
       "         7.21791697e+00, -6.92741251e+00,  3.55155015e+00,\n",
       "         1.95958197e+00, -3.36043239e-01, -7.38311148e+00,\n",
       "         2.79947090e+00,  2.10237312e+00,  6.69070721e+00,\n",
       "        -1.64311409e-01,  5.88900089e+00,  1.03316946e+01,\n",
       "        -1.56403065e+00, -1.69410896e+00, -3.87228775e+00,\n",
       "        -3.88387203e+00, -7.48495960e+00, -1.35755613e-01,\n",
       "        -5.54154539e+00, -5.52230358e+00],\n",
       "       [-7.40706730e+00, -8.77663708e+00,  1.32313080e+01,\n",
       "         7.74732876e+00,  6.06101096e-01,  3.53689098e+00,\n",
       "         3.65007043e+00,  1.27585757e+00, -3.11400414e+00,\n",
       "         1.68669548e+01,  4.16491241e+01,  4.54712448e+01,\n",
       "         3.09515228e+01,  9.17964649e+00, -9.28733635e+00,\n",
       "        -9.58344281e-01,  3.20697093e+00, -8.14010334e+00,\n",
       "         4.64115429e+00, -3.00284767e+00, -3.21074694e-01,\n",
       "         3.53388500e+00,  4.40346336e+00],\n",
       "       [-3.11427021e+00, -2.48423815e+00, -7.36214757e-01,\n",
       "         5.76604891e+00, -4.31744766e+00,  2.03924394e+00,\n",
       "         1.83237803e+00,  1.74033284e+00,  2.33096676e+01,\n",
       "         6.52310410e+01,  1.18608658e+02,  1.35651138e+02,\n",
       "         7.87021942e+01,  1.82444706e+01,  4.29225206e+00,\n",
       "         4.41375828e+00, -2.19073176e+00,  1.61323571e+00,\n",
       "        -1.16778636e+00,  3.43476439e+00, -3.48451090e+00,\n",
       "         3.41623855e+00, -1.03885531e+00],\n",
       "       [ 4.35038137e+00, -6.75518179e+00, -2.95427203e+00,\n",
       "         3.74398470e-01, -4.64581776e+00, -2.68910480e+00,\n",
       "         3.05991030e+00,  1.65993595e+01,  3.34358940e+01,\n",
       "         7.81276245e+01,  1.31219330e+02,  1.22441490e+02,\n",
       "         7.34242249e+01,  2.28532562e+01,  1.96746111e+00,\n",
       "        -6.97744179e+00,  4.55910873e+00,  3.98066568e+00,\n",
       "        -4.33925676e+00, -1.22004824e+01, -2.48446628e-01,\n",
       "        -4.73838282e+00,  1.91604590e+00],\n",
       "       [-5.52486181e+00, -1.60518599e+00, -1.24340420e+01,\n",
       "         1.86002600e+00, -1.79188669e+00,  3.52940202e+00,\n",
       "        -5.44150770e-01,  1.18917141e+01,  2.57000771e+01,\n",
       "         3.60168571e+01,  4.85799561e+01,  3.56968193e+01,\n",
       "         2.46356030e+01,  1.60632820e+01,  9.91143036e+00,\n",
       "        -4.17440772e-01, -2.99854922e+00,  1.00521030e+01,\n",
       "         1.36943579e+00, -6.59571946e-01,  3.38377833e+00,\n",
       "        -3.46381068e+00, -1.31620789e+00],\n",
       "       [-5.85655165e+00,  1.36762869e+00,  3.31978893e+00,\n",
       "         2.46642232e+00,  3.28429842e+00,  2.43803453e+00,\n",
       "         4.78940427e-01, -1.93681645e+00,  1.72313251e+01,\n",
       "         6.88454771e+00,  1.24736319e+01,  2.46177197e+01,\n",
       "         1.86431408e+01,  3.10626984e+00,  6.62232637e-01,\n",
       "         3.98464727e+00, -8.41866493e+00, -8.90008450e+00,\n",
       "        -7.87236571e-01, -6.82136631e+00, -1.47512066e+00,\n",
       "        -8.89430404e-01,  1.07862043e+00],\n",
       "       [ 4.13017893e+00,  4.03798580e+00,  2.89359188e+00,\n",
       "        -5.48166561e+00, -8.52418041e+00, -2.81101656e+00,\n",
       "        -4.56143570e+00, -3.16820645e+00,  2.20514536e-01,\n",
       "         5.52436733e+00, -7.26576567e+00,  1.28583345e+01,\n",
       "         1.22011633e+01,  4.90312481e+00,  5.92659569e+00,\n",
       "         6.51356339e-01, -1.50485027e+00, -1.07876861e+00,\n",
       "         2.64463997e+00,  2.46421352e-01,  5.87047005e+00,\n",
       "         5.26966304e-02,  7.20925951e+00],\n",
       "       [-2.51821685e+00,  1.14734774e+01, -1.07359686e+01,\n",
       "        -5.02171421e+00,  2.49592400e+00,  4.93935919e+00,\n",
       "        -3.93125534e-01,  2.72063375e+00, -9.95153046e+00,\n",
       "         5.58798361e+00,  4.57621241e+00,  1.23705444e+01,\n",
       "        -4.37435246e+00,  6.69984818e-02,  4.70940971e+00,\n",
       "         3.59695315e-01,  2.54836226e+00,  7.01080894e+00,\n",
       "         6.39316034e+00,  7.01227093e+00,  5.90824187e-02,\n",
       "         1.02210510e+00, -5.09844542e+00],\n",
       "       [-9.15047646e-01, -1.37657537e+01, -8.74079704e-01,\n",
       "         1.34793053e+01,  2.67359591e+00,  3.84703159e+00,\n",
       "         5.99673414e+00, -1.04308271e+01, -6.31123841e-01,\n",
       "         3.68225074e+00, -7.92192030e+00,  3.36992955e+00,\n",
       "        -4.99096155e+00, -3.26551151e+00, -5.07136679e+00,\n",
       "         9.19518280e+00,  1.43000877e+00, -4.85583591e+00,\n",
       "        -6.31727695e+00, -4.80286554e-02,  5.35325146e+00,\n",
       "         3.87057590e+00, -8.13972092e+00],\n",
       "       [-3.38278270e+00,  4.32133150e+00, -6.11038399e+00,\n",
       "        -2.02217984e+00, -4.90913677e+00, -3.07062364e+00,\n",
       "        -1.93906832e+00, -3.83233333e+00, -5.74488068e+00,\n",
       "         5.82083511e+00,  9.28633690e+00,  1.99479103e+00,\n",
       "         1.68428779e+00, -1.00119627e+00, -7.34254503e+00,\n",
       "         1.48665237e+00,  4.40209055e+00,  2.57781684e-01,\n",
       "        -7.06475878e+00,  6.45666361e+00,  9.16519165e-01,\n",
       "         4.22820520e+00,  5.07750225e+00],\n",
       "       [-8.27392101e-01,  1.04476440e+00,  3.18149424e+00,\n",
       "         4.68214893e+00, -4.75834656e+00,  5.17522573e+00,\n",
       "         9.61659014e-01, -4.79509068e+00,  2.80293989e+00,\n",
       "        -6.72845030e+00, -5.30150127e+00,  7.08519697e+00,\n",
       "        -1.44349313e+00, -4.81414938e+00,  3.71371293e+00,\n",
       "         2.68919516e+00, -2.33190274e+00,  3.76228619e+00,\n",
       "         2.85493636e+00, -7.23782635e+00,  5.65479612e+00,\n",
       "         3.98116326e+00, -3.06403875e+00],\n",
       "       [-8.50223637e+00, -1.85475731e+00, -3.20454478e+00,\n",
       "         2.30422759e+00, -8.08921874e-01,  4.84064913e+00,\n",
       "         2.63484383e+00, -9.83820057e+00,  4.51293373e+00,\n",
       "        -4.25195169e+00, -8.61387634e+00, -2.98998451e+00,\n",
       "         6.58077717e+00, -6.59669685e+00, -9.37155819e+00,\n",
       "         9.03572655e+00,  9.13794041e+00, -1.07555742e+01,\n",
       "        -2.96624994e+00, -4.34648228e+00, -5.23811579e+00,\n",
       "         9.30494070e-01, -1.97323418e+00],\n",
       "       [-1.60185885e+00, -6.46746159e+00, -8.45952511e+00,\n",
       "        -1.42587852e+01,  8.50243986e-01, -1.14631021e+00,\n",
       "         3.46287251e+00,  2.62632775e+00, -3.13116693e+00,\n",
       "        -1.41295874e+00,  9.38689899e+00, -1.02791843e+01,\n",
       "         1.16625223e+01, -7.65498698e-01, -2.42754340e+00,\n",
       "        -2.87399077e+00,  1.95312345e+00,  1.20382488e+00,\n",
       "        -1.55329669e+00,  7.60913551e-01,  1.30273867e+00,\n",
       "        -1.54029608e+00,  1.45223379e+00],\n",
       "       [ 1.30969000e+00, -9.12949944e+00, -3.84548187e+00,\n",
       "         1.89683127e+00,  6.94136024e-01, -1.38069713e+00,\n",
       "        -9.79567468e-01,  4.73374653e+00, -6.10586293e-02,\n",
       "        -9.89555240e-01,  1.30552888e+00, -3.16695404e+00,\n",
       "         4.01511955e+00,  1.15617263e+00,  2.50634360e+00,\n",
       "        -3.94802499e+00, -3.69415092e+00, -8.62875557e+00,\n",
       "        -2.08299184e+00,  6.04164505e+00, -9.54504907e-01,\n",
       "         2.90206462e-01,  5.03889894e+00],\n",
       "       [ 3.62798142e+00, -3.07822514e+00, -4.76230335e+00,\n",
       "         2.34234047e+00, -1.53422785e+01, -4.28693485e+00,\n",
       "         1.47812510e+00,  1.78744328e+00,  1.01450050e+00,\n",
       "         6.14472091e-01, -2.56176472e+00, -5.05021000e+00,\n",
       "        -3.24902368e+00, -4.48561716e+00, -4.78563404e+00,\n",
       "        -3.59898424e+00,  7.83529568e+00, -3.22856903e+00,\n",
       "         8.32872009e+00, -8.51453018e+00, -5.77468920e+00,\n",
       "         4.97673601e-02, -2.27995896e+00]], dtype=float32)"
      ]
     },
     "execution_count": 28,
     "metadata": {},
     "output_type": "execute_result"
    }
   ],
   "source": [
    "box_values_ast_0 = sample_information_0['data'][1]['box'][1]\n",
    "sample_images_0[0][box_values_ast_0.ymin+40:box_values_ast_0.ymax-40,box_values_ast_0.xmin+40:box_values_ast_0.xmax-40]"
   ]
  },
  {
   "cell_type": "markdown",
   "metadata": {},
   "source": [
    "Aha! There it is, but lets see if we normalize the data by subtracting the minimum value and taking a logarithm to see if we get a better picture"
   ]
  },
  {
   "cell_type": "code",
   "execution_count": 128,
   "metadata": {},
   "outputs": [
    {
     "data": {
      "text/plain": [
       "<matplotlib.image.AxesImage at 0x2f3fcecd0>"
      ]
     },
     "execution_count": 128,
     "metadata": {},
     "output_type": "execute_result"
    },
    {
     "data": {
      "image/png": "[encoded data removed]",
      "text/plain": [
       "<Figure size 432x288 with 1 Axes>"
      ]
     },
     "metadata": {
      "needs_background": "light"
     },
     "output_type": "display_data"
    }
   ],
   "source": [
    "sample_images_0_normalized = np.log10(sample_images_0[0]-np.min(sample_images_0[0])+10**-8)\n",
    "plt.imshow(sample_images_0_normalized[box_values_ast_0.ymin+40:box_values_ast_0.ymax-40,box_values_ast_0.xmin+40:box_values_ast_0.xmax-40])"
   ]
  },
  {
   "cell_type": "markdown",
   "metadata": {},
   "source": [
    "## Obtaining Images from Asteroid Images"
   ]
  },
  {
   "cell_type": "code",
   "execution_count": 13,
   "metadata": {},
   "outputs": [
    {
     "name": "stdout",
     "output_type": "stream",
     "text": [
      "It took 1296.6758785247803 seconds\n"
     ]
    }
   ],
   "source": [
    "data=[]\n",
    "def store_images(information, images):\n",
    "    for j in np.arange(100): #look into parfor\n",
    "        for i in np.arange(20):\n",
    "            unwritten = 0\n",
    "            box_values_ast = information['data'][2*j+1]['box'][i]\n",
    "            temp = images[j][box_values_ast.ymin:box_values_ast.ymax,box_values_ast.xmin:box_values_ast.xmax]\n",
    "            temp = temp[41:62, 41:62].flatten().tolist()\n",
    "            if unwritten == 0:\n",
    "                data.append(temp)\n",
    "                unwritten = 1\n",
    "\n",
    "begin = time.time()\n",
    "store_images(sample_information_0, sample_images_0)\n",
    "store_images(sample_information_1, sample_images_1)\n",
    "store_images(sample_information_0, sample_images_2)\n",
    "store_images(sample_information_1, sample_images_3)\n",
    "store_images(sample_information_0, sample_images_4)\n",
    "store_images(sample_information_1, sample_images_5)\n",
    "store_images(sample_information_0, sample_images_6)\n",
    "store_images(sample_information_1, sample_images_7)\n",
    "end = time.time()\n",
    "\n",
    "print(\"It took {} seconds\".format(end-begin))"
   ]
  },
  {
   "cell_type": "code",
   "execution_count": 14,
   "metadata": {},
   "outputs": [
    {
     "name": "stdout",
     "output_type": "stream",
     "text": [
      "(16000, 441)\n"
     ]
    }
   ],
   "source": [
    "print(np.array(data).shape)"
   ]
  },
  {
   "cell_type": "code",
   "execution_count": 15,
   "metadata": {},
   "outputs": [],
   "source": [
    "pixel_columns= []\n",
    "labels = [1]*16000\n",
    "for i in range(21*21): #100*100\n",
    "    pixel_columns.append(\"Pixel_{}\".format(i))"
   ]
  },
  {
   "cell_type": "code",
   "execution_count": 16,
   "metadata": {},
   "outputs": [],
   "source": [
    "df = pd.DataFrame(data, columns=pixel_columns)"
   ]
  },
  {
   "cell_type": "code",
   "execution_count": 17,
   "metadata": {},
   "outputs": [],
   "source": [
    "df.insert(0, \"Labels\", labels)"
   ]
  },
  {
   "cell_type": "code",
   "execution_count": 18,
   "metadata": {},
   "outputs": [],
   "source": [
    "df.to_csv(\"Asteroid.csv\", index=False)"
   ]
  },
  {
   "cell_type": "code",
   "execution_count": 8,
   "metadata": {},
   "outputs": [],
   "source": [
    "not_asteroid = []\n",
    "def non_asteroid(sample_images):\n",
    "    for i in range(len(sample_images)): \n",
    "        cropped = sample_images[i][200:2800,500:] #removed the borders caused by ZTF\n",
    "        p1=cropped[500:521,:] #one slice of the image all the way to the end\n",
    "#         p1_normalized = preprocessing.normalize(p1) #normalized the data\n",
    "#         gaussian_blur = np.ones((5,5),np.float32)/25 #blurring kernel\n",
    "#         p1_blurred = cv2.filter2D(p1_normalized,-1,gaussian_blur) #blurred image\n",
    "        # thresh = cv2.threshold(p1_blurred, 5e-100, 255, cv2.THRESH_BINARY)[1]\n",
    "\n",
    "        #Rolling window, Traversing through an image\n",
    "        # in total 2100 per sample image, 16,800 images overall\n",
    "        for s in np.arange(0,2100,100): #cutoff at 2100 with a stride of 5 pixels to get 21 pictures from one image\n",
    "            mat1 = p1[:, s:s+21].flatten().tolist()\n",
    "            not_asteroid.append(mat1)"
   ]
  },
  {
   "cell_type": "code",
   "execution_count": 9,
   "metadata": {},
   "outputs": [],
   "source": [
    "non_asteroid(sample_images_0)\n",
    "non_asteroid(sample_images_1)\n",
    "non_asteroid(sample_images_2)\n",
    "non_asteroid(sample_images_3)\n",
    "non_asteroid(sample_images_4)\n",
    "non_asteroid(sample_images_5)\n",
    "non_asteroid(sample_images_6)\n",
    "non_asteroid(sample_images_7)"
   ]
  },
  {
   "cell_type": "code",
   "execution_count": 10,
   "metadata": {},
   "outputs": [
    {
     "name": "stdout",
     "output_type": "stream",
     "text": [
      "(16800, 441)\n"
     ]
    }
   ],
   "source": [
    "print(np.array(not_asteroid).shape)"
   ]
  },
  {
   "cell_type": "code",
   "execution_count": null,
   "metadata": {},
   "outputs": [],
   "source": [
    "pixel_columns_NA= []\n",
    "labels_NA = [0]*16800\n",
    "for i in range(21*21): #100*100\n",
    "    pixel_columns_NA.append(\"Pixel_{}\".format(i))\n",
    "    \n",
    "df_NA = pd.DataFrame(not_asteroid, columns=pixel_columns_NA)\n",
    "df_NA.insert(0, \"Labels\", labels_NA)\n",
    "df_NA.to_csv(\"Not_Asteroids.csv\", index=False)"
   ]
  },
  {
   "cell_type": "code",
   "execution_count": 6,
   "metadata": {},
   "outputs": [
    {
     "data": {
      "text/plain": [
       "<matplotlib.image.AxesImage at 0x2ab2c0eb0c50>"
      ]
     },
     "execution_count": 6,
     "metadata": {},
     "output_type": "execute_result"
    },
    {
     "data": {
      "image/png": "[encoded data removed]",
      "text/plain": [
       "<Figure size 432x288 with 1 Axes>"
      ]
     },
     "metadata": {
      "needs_background": "light"
     },
     "output_type": "display_data"
    }
   ],
   "source": [
    "cropped = sample_images_0[0][200:2800,500:]\n",
    "p1=cropped[500:521,:]\n",
    "plt.imshow(p1)"
   ]
  },
  {
   "cell_type": "code",
   "execution_count": null,
   "metadata": {},
   "outputs": [],
   "source": []
  }
 ],
 "metadata": {
  "kernelspec": {
   "display_name": "group4",
   "language": "python",
   "name": "group4"
  },
  "language_info": {
   "codemirror_mode": {
    "name": "ipython",
    "version": 3
   },
   "file_extension": ".py",
   "mimetype": "text/x-python",
   "name": "python",
   "nbconvert_exporter": "python",
   "pygments_lexer": "ipython3",
   "version": "3.7.9"
  }
 },
 "nbformat": 4,
 "nbformat_minor": 2
}
